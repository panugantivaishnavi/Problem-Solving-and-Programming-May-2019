{
 "cells": [
  {
   "cell_type": "markdown",
   "metadata": {},
   "source": [
    "# Problem Solving and Programming\n",
    "## P.Bhanu Vaishnavi\n",
    "## Day 15\n",
    "## Date: 15May,19"
   ]
  },
  {
   "cell_type": "code",
   "execution_count": null,
   "metadata": {},
   "outputs": [],
   "source": [
    "#### Packages: Collection of python scripts(.py)\n",
    "         #### Home -> New -> textfile -> filename.py\n",
    "#### Modules: One single python script "
   ]
  },
  {
   "cell_type": "code",
   "execution_count": 7,
   "metadata": {},
   "outputs": [
    {
     "data": {
      "text/plain": [
       "6"
      ]
     },
     "execution_count": 7,
     "metadata": {},
     "output_type": "execute_result"
    }
   ],
   "source": [
    "from Day17.test import fact\n",
    "fact(3)"
   ]
  },
  {
   "cell_type": "code",
   "execution_count": 6,
   "metadata": {},
   "outputs": [
    {
     "name": "stdout",
     "output_type": "stream",
     "text": [
      "6\n",
      "10\n"
     ]
    }
   ],
   "source": [
    "import Day17.test\n",
    "print(Day17.test.fact(3))\n",
    "print(Day17.test.sumN(4))"
   ]
  },
  {
   "cell_type": "code",
   "execution_count": 16,
   "metadata": {},
   "outputs": [
    {
     "name": "stdout",
     "output_type": "stream",
     "text": [
      "didnt match\n"
     ]
    }
   ],
   "source": [
    "import re # re is predefined functions\n",
    "#pattern ='^[a-z]{2,9}$'\n",
    "pattern = '^[a,e,i,o,u]+'\n",
    "domain ='go'\n",
    "if re.match(pattern,domain):\n",
    "    print('match')\n",
    "else:\n",
    "    print('didnt match')     "
   ]
  },
  {
   "cell_type": "code",
   "execution_count": 30,
   "metadata": {},
   "outputs": [
    {
     "name": "stdout",
     "output_type": "stream",
     "text": [
      "Match\n"
     ]
    }
   ],
   "source": [
    "#postal code validation\n",
    "import re\n",
    "pattern = '^[1-9][0-9]{5}$'\n",
    "domain = '500024'\n",
    "if re.match(pattern,domain):\n",
    "    print('Match')\n",
    "else:\n",
    "    print(\"dM\")"
   ]
  },
  {
   "cell_type": "code",
   "execution_count": 5,
   "metadata": {},
   "outputs": [
    {
     "name": "stdout",
     "output_type": "stream",
     "text": [
      "+91-8125137018\n",
      "Match\n"
     ]
    }
   ],
   "source": [
    "# phone number validation\n",
    "import re\n",
    "pattern= '^[+][9][1][-][6-9][0-9]{9}$'\n",
    "domain = input()\n",
    "if re.match(pattern,domain):\n",
    "    print('Match')\n",
    "else:\n",
    "    print(\"dM\")"
   ]
  },
  {
   "cell_type": "markdown",
   "metadata": {},
   "source": [
    "## Define a function to validate email addresses based on the following rules.\n",
    "\n",
    "###  -> Email should be in the format username@domain.extension\n",
    "### -> username must start with an alphabet and can contain lowercase alphabet, digits, hyphen(-) and underscores( _ ).\n",
    "### -> username must not contain special characters, uppercase letters, whitespaces.\n",
    "### -> Length of username must be in the range (6, 16)\n",
    "### -> Domain can only contain lowercase alphabet and digits with length in range (3, 10) . No special characters are allowed\n",
    "### -> Extension can only contain lower case alphabet and its length must be in the range (2, 4)"
   ]
  },
  {
   "cell_type": "code",
   "execution_count": 11,
   "metadata": {},
   "outputs": [
    {
     "name": "stdout",
     "output_type": "stream",
     "text": [
      "vaishu_1998@gmail.com\n",
      "Match\n"
     ]
    }
   ],
   "source": [
    "import re\n",
    "pattern= '^[a-z][a-z0-9-_]{5,14}[@][a-z]{3,9}[.][a-z]{2,3}$'\n",
    "domain = input()\n",
    "if re.match(pattern,domain):\n",
    "    print('Match')\n",
    "else:\n",
    "    print(\"dM\")"
   ]
  },
  {
   "cell_type": "code",
   "execution_count": 6,
   "metadata": {},
   "outputs": [
    {
     "name": "stdout",
     "output_type": "stream",
     "text": [
      "vAishnavi@98\n",
      "Match\n"
     ]
    }
   ],
   "source": [
    "#validation password\n",
    "import re\n",
    "pattern= '^(?=.*[a-z])(?=.*[A-Z])(?=.*[0-9])(?=.*[!@#$&]).{6,20}'\n",
    "domin = input()\n",
    "if re.match(pattern,domin):\n",
    "    print('Match')\n",
    "else:\n",
    "    print(\"dM\")"
   ]
  },
  {
   "cell_type": "code",
   "execution_count": null,
   "metadata": {},
   "outputs": [],
   "source": []
  }
 ],
 "metadata": {
  "kernelspec": {
   "display_name": "Python 3",
   "language": "python",
   "name": "python3"
  },
  "language_info": {
   "codemirror_mode": {
    "name": "ipython",
    "version": 3
   },
   "file_extension": ".py",
   "mimetype": "text/x-python",
   "name": "python",
   "nbconvert_exporter": "python",
   "pygments_lexer": "ipython3",
   "version": "3.7.3"
  }
 },
 "nbformat": 4,
 "nbformat_minor": 2
}
