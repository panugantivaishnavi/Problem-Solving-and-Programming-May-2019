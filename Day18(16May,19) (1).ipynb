{
 "cells": [
  {
   "cell_type": "markdown",
   "metadata": {},
   "source": [
    "# Problem solving and programming\n",
    "## P.Bhanu Vaishanvi\n",
    "## Day18\n",
    "## Date: 16May,19\n",
    "## Day objectives\n",
    "* Objective 1 : File handling\n",
    "* Objective 2 : External Libraries\n",
    "* Objective 3 : Functional programming"
   ]
  },
  {
   "cell_type": "code",
   "execution_count": null,
   "metadata": {},
   "outputs": [],
   "source": [
    "## Problem 1:\n",
    "### Problem Statement:Define a function to read data from text file\n"
   ]
  },
  {
   "cell_type": "code",
   "execution_count": 35,
   "metadata": {},
   "outputs": [
    {
     "data": {
      "text/plain": [
       "'This s data file.Data in line1\\n'"
      ]
     },
     "execution_count": 35,
     "metadata": {},
     "output_type": "execute_result"
    }
   ],
   "source": [
    "def readFileData(filename):\n",
    "    f=open(filename,'r') #open is predeined func used to open files in read mode.f is file handler\n",
    "    filedata=f.readline() #used to read 1st line \n",
    "    # filedata=f.read() #used to read all line \n",
    "    f.close() #used to clse file\n",
    "    return filedata\n",
    "\n",
    "readFileData('DataFiles/data.txt')"
   ]
  },
  {
   "cell_type": "code",
   "execution_count": 7,
   "metadata": {},
   "outputs": [
    {
     "data": {
      "text/plain": [
       "'This s data file.Data in line1\\nhi gitam.Data in line2\\nhello.data in line3\\n'"
      ]
     },
     "execution_count": 7,
     "metadata": {},
     "output_type": "execute_result"
    }
   ],
   "source": [
    "## Accessing all lines in a file using 'with'\n",
    "def readFileData(filename):\n",
    "    with open(filename,'r') as f: # file close is automatically done by with so we use 'with' rther than using like previous one\n",
    "        filedata=f.read()\n",
    "    return filedata\n",
    "\n",
    "readFileData('DataFiles/data.txt')"
   ]
  },
  {
   "cell_type": "code",
   "execution_count": 9,
   "metadata": {},
   "outputs": [
    {
     "name": "stdout",
     "output_type": "stream",
     "text": [
      "This s data file.Data in line1\n",
      "hi gitam.Data in line2\n",
      "hello.data in line3\n"
     ]
    }
   ],
   "source": [
    "def readFileData(filename):\n",
    "    with open(filename,'r') as f: \n",
    "        for line in f:   #printing all lines using iterators\n",
    "            print(line,end='')\n",
    "    return\n",
    "\n",
    "readFileData('DataFiles/data.txt')"
   ]
  },
  {
   "cell_type": "code",
   "execution_count": 10,
   "metadata": {},
   "outputs": [
    {
     "name": "stdout",
     "output_type": "stream",
     "text": [
      "This s data file.Data in line1\n",
      "hi gitam.Data in line2\n",
      "hello.data in line3\n",
      "\n"
     ]
    }
   ],
   "source": [
    "def readFileData(filename):\n",
    "    with open(filename,'r') as f:\n",
    "        print(f.read())\n",
    "    return\n",
    "\n",
    "readFileData('DataFiles/data.txt')"
   ]
  },
  {
   "cell_type": "code",
   "execution_count": 52,
   "metadata": {},
   "outputs": [
    {
     "name": "stdout",
     "output_type": "stream",
     "text": [
      "This s data file.Data in line1\n",
      "\n",
      "hi gitam.Data in line2\n",
      "\n",
      "hello.data in line3\n",
      "\n"
     ]
    }
   ],
   "source": [
    "def readFileData(filename):\n",
    "    with open(filename,'r') as f:\n",
    "        for line in f: # it also does the same job as \n",
    "            print(line)\n",
    "    return\n",
    "\n",
    "readFileData('DataFiles/data.txt')"
   ]
  },
  {
   "cell_type": "code",
   "execution_count": 12,
   "metadata": {},
   "outputs": [],
   "source": [
    "# Writing data into new file\n",
    "def writeIntoFile(filename,data):\n",
    "    with open(filename,'w') as f:\n",
    "        f.write(data)\n",
    "    return\n",
    "writeIntoFile('DataFiles/fileWrite.txt','file write .txt')"
   ]
  },
  {
   "cell_type": "code",
   "execution_count": 18,
   "metadata": {},
   "outputs": [],
   "source": [
    "# appending data into existing file\n",
    "def writeIntoFile(filename,data,mode):\n",
    "    with open(filename,mode) as f:\n",
    "        f.write(data)\n",
    "    return\n",
    "writeIntoFile('DataFiles/fileWrite.txt','\\nhui','a')"
   ]
  },
  {
   "cell_type": "markdown",
   "metadata": {},
   "source": [
    "## Problem 1:\n",
    "### Problem Statement:Define a function to generate a marks datafile for 1300 students such that each mark is entered in a new line . Marks range from 0 to 100(inclusive)  \n",
    "### Constraints:\n",
    "### Test Cases;\n",
    "* Test case1 :"
   ]
  },
  {
   "cell_type": "code",
   "execution_count": 28,
   "metadata": {},
   "outputs": [],
   "source": [
    "import random\n",
    "def genmarks(n,filename):\n",
    "    for i in range(0,n):\n",
    "        x=str(random.randrange(0,101))\n",
    "        y=str(x+'\\n')\n",
    "        writedata(filename,y,'a')\n",
    "    return\n",
    "def writedata(filename,data,mode):\n",
    "    with open(filename,mode) as f:\n",
    "        f.write(data)\n",
    "    return\n",
    "genmarks(1300,'DataFiles/mark1.txt')"
   ]
  },
  {
   "cell_type": "markdown",
   "metadata": {},
   "source": [
    "## Problem 2:\n",
    "### Problem Statement: Generate a report on the marks data with the following indicators:\n",
    "* Highest Mark\n",
    "* Lowest Mark\n",
    "* Average mark\n",
    "* No of students with distinction (>80)\n",
    "* No of students with first class (>60)\n",
    "* No of students with second class (>50)\n",
    "* No of students with third class (>40)\n",
    "* No of students failed(<40)\n",
    "### Constraints:\n",
    "### Test Cases;\n",
    "* Test case1 :"
   ]
  },
  {
   "cell_type": "code",
   "execution_count": 63,
   "metadata": {},
   "outputs": [
    {
     "name": "stdout",
     "output_type": "stream",
     "text": [
      "max= 100\n",
      "min= 0\n",
      "average= 50\n",
      "No of students with distinction (>80):  237\n",
      "No of students with first class (>60):  285\n",
      "No of students with second class (>50):  135\n",
      "No of students with third class (>40):  131\n",
      "No of studentsfailed(<40):  512\n"
     ]
    },
    {
     "data": {
      "text/plain": [
       "0.010361784999986412"
      ]
     },
     "execution_count": 63,
     "metadata": {},
     "output_type": "execute_result"
    }
   ],
   "source": [
    "import timeit\n",
    "def readmarks(n,filename):\n",
    "    start=timeit.default_timer()# it is used to start the timer to calc execution time\n",
    "    lists=[]\n",
    "    with open(filename,'r') as f:\n",
    "        for line in f:\n",
    "            lists.append(int(line))\n",
    "        #print(lists)\n",
    "        maxi=max(lists)\n",
    "        print('max=',maxi)\n",
    "        mini=min(lists)\n",
    "        print('min=',mini)\n",
    "        print('average=',(mini+maxi)/2)\n",
    "        dist=0\n",
    "        first=0\n",
    "        secnd=0\n",
    "        thrd=0\n",
    "        failed=0\n",
    "        for i in range(0,n):\n",
    "            if (lists[i]>80) and (lists[i]<=100):\n",
    "                dist+=1\n",
    "            elif (lists[i]>60) and (lists[i]<=80):\n",
    "                first+=1\n",
    "            elif (lists[i]>50) and (lists[i]<=60):\n",
    "                secnd+=1 \n",
    "            elif (lists[i]>40) and (lists[i]<=50):\n",
    "                thrd+=1\n",
    "            else:\n",
    "                failed+=1\n",
    "        print('No of students with distinction (>80): ',dist)\n",
    "        print('No of students with first class (>60): ',first)\n",
    "        print('No of students with second class (>50): ',secnd)\n",
    "        print('No of students with third class (>40): ',thrd)\n",
    "        print('No of studentsfailed(<40): ',failed)\n",
    "        return timeit.default_timer()- start\n",
    "        \n",
    "readmarks(1300,'DataFiles/mark1.txt')"
   ]
  },
  {
   "cell_type": "code",
   "execution_count": 65,
   "metadata": {},
   "outputs": [
    {
     "data": {
      "text/plain": [
       "'1'"
      ]
     },
     "execution_count": 65,
     "metadata": {},
     "output_type": "execute_result"
    }
   ],
   "source": [
    "li=[1,2,3,4,5]\n",
    "s=list(map(str,li))\n",
    "s[0]"
   ]
  },
  {
   "cell_type": "code",
   "execution_count": 72,
   "metadata": {},
   "outputs": [
    {
     "name": "stdout",
     "output_type": "stream",
     "text": [
      "[1.0, 2.0, 3.0, 4.0, 5.0, 6.0]\n"
     ]
    }
   ],
   "source": [
    "def square(n):\n",
    "    return n*n\n",
    "li=[1,2,3,4,5,6]\n",
    "s=list(map(str,li))\n",
    "s=[float(i) for i in s]\n",
    "print(s)"
   ]
  },
  {
   "cell_type": "markdown",
   "metadata": {},
   "source": [
    "# External libraries"
   ]
  },
  {
   "cell_type": "code",
   "execution_count": 82,
   "metadata": {},
   "outputs": [
    {
     "name": "stdout",
     "output_type": "stream",
     "text": [
      "<class 'numpy.ndarray'>\n",
      "([0, 1, 2], [3, 4, 5])\n",
      "[4 6 8]\n",
      "[5 6 7]\n"
     ]
    }
   ],
   "source": [
    "import numpy as np\n",
    "a=np.array([0,1,2])\n",
    "b=np.array([4,5,6])\n",
    "c=([0,1,2],[3,4,5])\n",
    "print(type(a))\n",
    "print(c)\n",
    "print(a+b) #addition of 2 matrices \n",
    "print(a+5)"
   ]
  },
  {
   "cell_type": "code",
   "execution_count": null,
   "metadata": {},
   "outputs": [],
   "source": []
  }
 ],
 "metadata": {
  "kernelspec": {
   "display_name": "Python 3",
   "language": "python",
   "name": "python3"
  },
  "language_info": {
   "codemirror_mode": {
    "name": "ipython",
    "version": 3
   },
   "file_extension": ".py",
   "mimetype": "text/x-python",
   "name": "python",
   "nbconvert_exporter": "python",
   "pygments_lexer": "ipython3",
   "version": "3.7.3"
  }
 },
 "nbformat": 4,
 "nbformat_minor": 2
}
