{
 "cells": [
  {
   "cell_type": "markdown",
   "metadata": {},
   "source": [
    "# Problem Solving and Programming\n",
    "## P.Bhanu Vaishnavi\n",
    "### Day 12\n",
    "### Date: 10May,2019\n",
    "\n",
    "### Day Objectives\n",
    "1. Learning how to apply recursion concept to problems\n",
    "2. Solving problems on recursion and \n",
    "\n"
   ]
  },
  {
   "cell_type": "markdown",
   "metadata": {},
   "source": [
    "## Problem 1:\n",
    "### Problem Statement: Define a recursive function to demonstrate n raised to r.\n",
    "### Constraints: n,r in range[1,1000]\n",
    "## #Test Cases:\n",
    "* Test case 1:RecursivePower(2,3)\n",
    "* Test Case 2:RecursivePower(19,24)\n",
    "* Test Case 3:RecursivePower(762,36)"
   ]
  },
  {
   "cell_type": "code",
   "execution_count": 8,
   "metadata": {},
   "outputs": [
    {
     "name": "stdout",
     "output_type": "stream",
     "text": [
      "8\n",
      "6561\n",
      "144\n"
     ]
    }
   ],
   "source": [
    "def RecursivePower(n,r):\n",
    "    if r==1:\n",
    "        return n\n",
    "    else:\n",
    "        return RecursivePower(n,r-1)*n\n",
    "print(RecursivePower(2,3))\n",
    "print(RecursivePower(9,4))\n",
    "print(RecursivePower(12,2))"
   ]
  },
  {
   "cell_type": "markdown",
   "metadata": {},
   "source": [
    "## Problem 2: \n",
    "### Problem Statement:  Define a recursive function to demonstrate factorial of n.\n",
    "### Constraints: Given number will be in the range [1, 1000]\n",
    "### Test Cases:\n",
    "* Test case 1: fact(5) -> 120"
   ]
  },
  {
   "cell_type": "code",
   "execution_count": 3,
   "metadata": {},
   "outputs": [
    {
     "data": {
      "text/plain": [
       "120"
      ]
     },
     "execution_count": 3,
     "metadata": {},
     "output_type": "execute_result"
    }
   ],
   "source": [
    "def fact(n):\n",
    "    if n==1:\n",
    "        return 1\n",
    "    else:\n",
    "        return n*fact(n-1)\n",
    "fact(5)"
   ]
  },
  {
   "cell_type": "markdown",
   "metadata": {},
   "source": [
    "## Problem 3: \n",
    "### Problem Statement: Define a recursive function to demonstrate gcd\n",
    "### Constraints:\n",
    "### Test Cases:\n",
    "* Test case 1:gcd(42,12) -\n",
    "* Test Case 2:gcd(2,4)"
   ]
  },
  {
   "cell_type": "code",
   "execution_count": null,
   "metadata": {},
   "outputs": [],
   "source": [
    "def gcd(a,b):\n",
    "    if(a>b):\n",
    "        return gcd(a-b,b)\n",
    "    elif(a<b):\n",
    "        return gcd(a,b-a)\n",
    "    elif(a==b):\n",
    "        return a\n",
    "    elif a==0:\n",
    "        return b\n",
    "    elif b==0:\n",
    "        return a\n",
    "\n",
    "print(gcd(42,12))\n",
    "print(gcd(2,4))"
   ]
  },
  {
   "cell_type": "markdown",
   "metadata": {},
   "source": [
    "## Problem 4: \n",
    "### Problem Statement:  Define a recurcive function to demonstrate towers of Hanoi problem.\n",
    "### Constraints:\n",
    "### Test Cases:\n",
    "* Test case 1:towersOfHanoi(3,'A','B','C')"
   ]
  },
  {
   "cell_type": "code",
   "execution_count": 9,
   "metadata": {
    "scrolled": true
   },
   "outputs": [
    {
     "name": "stdout",
     "output_type": "stream",
     "text": [
      "Move 1 disk from A to C\n",
      "Move 2 disk from A to B\n",
      "Move 1 disk from C to B\n",
      "Move 3 disk from A to C\n",
      "Move 1 disk from B to A\n",
      "Move 2 disk from B to C\n",
      "Move 1 disk from A to C\n"
     ]
    }
   ],
   "source": [
    "def towersOfHanoi(n,source,temp,dest):\n",
    "    if( n==1):\n",
    "        print('Move',n,'disk from',source,'to',dest)\n",
    "        return\n",
    "    else:\n",
    "        towersOfHanoi(n-1,source,dest,temp)\n",
    "        print('Move',n,'disk from',source,'to',dest)\n",
    "        towersOfHanoi(n-1,temp,source,dest)\n",
    "        return\n",
    "    \n",
    "towersOfHanoi(3,'A','B','C')"
   ]
  },
  {
   "cell_type": "markdown",
   "metadata": {},
   "source": [
    "## Problem 5: \n",
    "### Problem Statement: Define a recurcive function to print n th number in fibonacci series.\n",
    "### Constraints:\n",
    "### Test Cases:\n",
    "* Test case 1: recur_fibo(5) -> 5"
   ]
  },
  {
   "cell_type": "code",
   "execution_count": 2,
   "metadata": {},
   "outputs": [
    {
     "data": {
      "text/plain": [
       "5"
      ]
     },
     "execution_count": 2,
     "metadata": {},
     "output_type": "execute_result"
    }
   ],
   "source": [
    "def recur_fibo(n): \n",
    "   if n <= 1:  \n",
    "       return n  \n",
    "   else:  \n",
    "       return(recur_fibo(n-1) + recur_fibo(n-2))\n",
    "    \n",
    "recur_fibo(5)"
   ]
  },
  {
   "cell_type": "markdown",
   "metadata": {},
   "source": [
    "## Problem 6: \n",
    "### Problem Statement: Define a function to identity the number of times a substring is repeating in a given string\n",
    "### Constraints:\n",
    "### Test Cases:\n",
    "* Test case 1:substringCount('str', 'substr') -> 1\n",
    "* Test Case 2:substringCount('1234567891122334455', '3') -> 3\n",
    "* Test Case 3:substringCount('abccddccc', 'cc') -> 3\n",
    "* Test Case 4:substringCount('aaaaaaa', 'aaa' ) -> 5"
   ]
  },
  {
   "cell_type": "code",
   "execution_count": 3,
   "metadata": {},
   "outputs": [
    {
     "name": "stdout",
     "output_type": "stream",
     "text": [
      "1\n",
      "3\n",
      "3\n"
     ]
    }
   ],
   "source": [
    "def substringCount(string,substring):\n",
    "    if(len(string)>len(substring)):\n",
    "        '''string1=str(string)\n",
    "        print(string1.count(substring))'''\n",
    "        count=0\n",
    "        l=len(substring)\n",
    "        for i in range(0,len(string)-len(substring)+1):\n",
    "            if string[i:l]==substring:\n",
    "                count+=1\n",
    "            l+=1\n",
    "        return count\n",
    "    else:\n",
    "        return substringCount(substring,string)\n",
    "print(substringCount('str', 'substr'))\n",
    "print(substringCount('1234567891122334455', '3'))\n",
    "print(substringCount('abccddccc', 'cc'))"
   ]
  },
  {
   "cell_type": "markdown",
   "metadata": {},
   "source": [
    "## Problem 7: \n",
    "### Problem Statement: Define a function to merge the characters of two strings alternatively. The remaining characters of the longer string are printed in the same order at the end. \n",
    "### Constraints:\n",
    "### Test Cases:\n",
    "* Test case 1:mergeString('abcd', 'abcd') -> 'aabbccdd'\n",
    "* Test Case 2:mergeString('abc', '123456') -> 'a1b2c3456'\n",
    "* Test Case 3:mergeString('0', '123456') -> '0123456'"
   ]
  },
  {
   "cell_type": "code",
   "execution_count": 45,
   "metadata": {},
   "outputs": [
    {
     "name": "stdout",
     "output_type": "stream",
     "text": [
      "aabbccdd \n",
      "a1b2c3456 \n",
      "0123456 \n"
     ]
    }
   ],
   "source": [
    "def mergeString(str1,str2):\n",
    "    for i in range(0,min(len(str1),len(str2))):\n",
    "        s=str1[i]+str2[i]\n",
    "        print(s,end='')\n",
    "        k=i\n",
    "    if(len(str1)>len(str2)):\n",
    "        for j in range(k+1,len(str1)):\n",
    "            s=str1[j]\n",
    "            print(s,end='')\n",
    "    elif(len(str2)>len(str1)):\n",
    "        for j in range(k+1,len(str2)):\n",
    "            s=str2[j]\n",
    "            print(s,end='')\n",
    "    return ' '\n",
    "print(mergeString('abcd','abcd'))\n",
    "print(mergeString('abc', '123456'))\n",
    "print(mergeString('0', '123456'))"
   ]
  },
  {
   "cell_type": "markdown",
   "metadata": {},
   "source": [
    "## Problem 8: \n",
    "### Problem Statement:  Define a function to convert a binary number to the corresponding decimal number\n",
    "### Constraints:\n",
    "### Test Cases:\n",
    "* Test case 1:binaryToDecimal(1100) -> 12\n",
    "* Test Case 2:binaryToDecimal(1010) -> 10\n",
    "* Test Case 3:binaryToDecimal(111000) -> 56"
   ]
  },
  {
   "cell_type": "code",
   "execution_count": 1,
   "metadata": {},
   "outputs": [
    {
     "name": "stdout",
     "output_type": "stream",
     "text": [
      "12\n",
      "10\n",
      "56\n"
     ]
    }
   ],
   "source": [
    "def binaryToDecimal(n):\n",
    "    string=str(n)\n",
    "    num=0\n",
    "    power=len(string)-1\n",
    "    for i in range(0,len(string)):\n",
    "        pw=2**power\n",
    "        num=num+(int(string[i])*pw)\n",
    "        power-=1\n",
    "    #print(num)\n",
    "    return num\n",
    "    \n",
    "print(binaryToDecimal(1100))\n",
    "print(binaryToDecimal(1010))\n",
    "print(binaryToDecimal(111000))"
   ]
  },
  {
   "cell_type": "markdown",
   "metadata": {},
   "source": []
  }
 ],
 "metadata": {
  "kernelspec": {
   "display_name": "Python 3",
   "language": "python",
   "name": "python3"
  },
  "language_info": {
   "codemirror_mode": {
    "name": "ipython",
    "version": 3
   },
   "file_extension": ".py",
   "mimetype": "text/x-python",
   "name": "python",
   "nbconvert_exporter": "python",
   "pygments_lexer": "ipython3",
   "version": "3.7.3"
  }
 },
 "nbformat": 4,
 "nbformat_minor": 2
}
