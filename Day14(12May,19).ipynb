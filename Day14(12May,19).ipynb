{
 "cells": [
  {
   "cell_type": "markdown",
   "metadata": {},
   "source": [
    "# Problem Solving and Programming\n",
    "## P.Bhanu Vaishnavi\n",
    "### Day 14\n",
    "### Date : 12May,2019\n",
    "\n",
    "### Day Objectives\n",
    "* Learn about how to differenciate between norml year and leap year."
   ]
  },
  {
   "cell_type": "markdown",
   "metadata": {},
   "source": [
    "## Problem 1:\n",
    "### Problem Statement:  Define a function to check if a given year is a leap year. Returns a boolean value\n",
    "### Constraints:\n",
    "### Test Cases:\n",
    "* Test case 1:2000 -> True\n",
    "* Test Case 2:1900 -> False\n",
    "* Test Case 3:2012 -> True\n",
    "* Test Case 4:2020 -> True\n",
    "* Test Case 5:0200 -> False\n",
    "\n"
   ]
  },
  {
   "cell_type": "code",
   "execution_count": 4,
   "metadata": {},
   "outputs": [
    {
     "name": "stdout",
     "output_type": "stream",
     "text": [
      "True\n",
      "False\n",
      "True\n",
      "True\n",
      "False\n"
     ]
    }
   ],
   "source": [
    "def leapyear(year):\n",
    "    if((year%400==0)or((year%100!=0)and(year%4==0))):\n",
    "       return True\n",
    "    else:\n",
    "       return False\n",
    "\n",
    "print(leapyear(2000))\n",
    "print(leapyear(1900))\n",
    "print(leapyear(2012))\n",
    "print(leapyear(2020))\n",
    "print(leapyear(200))"
   ]
  },
  {
   "cell_type": "markdown",
   "metadata": {},
   "source": [
    "## Problem 2: \n",
    "### Problem Statement:  Define a function to demonstrate number of days in different months.\n",
    "### Constraints:\n",
    "### Test Cases:\n",
    "* Test case 1:numDaysInMonth(12) -> 31"
   ]
  },
  {
   "cell_type": "code",
   "execution_count": 10,
   "metadata": {},
   "outputs": [
    {
     "data": {
      "text/plain": [
       "31"
      ]
     },
     "execution_count": 10,
     "metadata": {},
     "output_type": "execute_result"
    }
   ],
   "source": [
    "def dateDifference(date1,date2):\n",
    "    return\n",
    "\n",
    "def daysInFeb(year):\n",
    "    if((year%400==0)or((year%100!=0)and(year%4==0))):\n",
    "        return 29\n",
    "    return 28\n",
    "def numDaysInMonth(month):\n",
    "    monthDays={'01':31,'03':31,'04':30,'05':31,'06':30,'07':31,'08':31,'09':30,'10':31,'11':30,'12':31}\n",
    "    if(month<7 and month!=2 and month%2==0) or (month>7 and month%2!=0):\n",
    "         return 30\n",
    "    else:\n",
    "        return 31\n",
    "    \n",
    "numDaysInMonth(12)"
   ]
  }
 ],
 "metadata": {
  "kernelspec": {
   "display_name": "Python 3",
   "language": "python",
   "name": "python3"
  },
  "language_info": {
   "codemirror_mode": {
    "name": "ipython",
    "version": 3
   },
   "file_extension": ".py",
   "mimetype": "text/x-python",
   "name": "python",
   "nbconvert_exporter": "python",
   "pygments_lexer": "ipython3",
   "version": "3.7.3"
  }
 },
 "nbformat": 4,
 "nbformat_minor": 2
}
