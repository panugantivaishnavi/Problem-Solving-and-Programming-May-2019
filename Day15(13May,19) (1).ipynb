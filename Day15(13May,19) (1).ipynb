{
 "cells": [
  {
   "cell_type": "markdown",
   "metadata": {},
   "source": [
    "# Problem Solving and Programming\n",
    "## P.Bhanu Vaishnavi\n",
    "### Day 15\n",
    "### Date : 13May,2019\n",
    "\n",
    "### Day Objectives\n",
    "* Learn about higher complex problems."
   ]
  },
  {
   "cell_type": "markdown",
   "metadata": {},
   "source": [
    "## Problem 1: \n",
    "### Problem Statement:You are given n words. Some words may repeat. For each word, output its number of occurrences. The output order should correspond with the input order of appearance of the word. \n",
    "### First line of input contains the total number of words n. Next n lines contain words that need to processed.\n",
    "### First line of the output should contain the total number distinct words. Second line of output must contain the frequency of words the same order of their appearance as in the input\n",
    "### Constraints:\n",
    "### Test Cases:\n",
    "* Test case 1:6\n",
    "              abcd\n",
    "              ijkl\n",
    "              abcd\n",
    "              pqrs\n",
    "              abcd\n",
    "              ijkl\n",
    "### Sample Output :   3\n",
    "3  2   1"
   ]
  },
  {
   "cell_type": "code",
   "execution_count": 1,
   "metadata": {},
   "outputs": [
    {
     "name": "stdout",
     "output_type": "stream",
     "text": [
      "\n",
      " 3\n",
      "3 2 1 "
     ]
    }
   ],
   "source": [
    "def problem1(t,list1):\n",
    "    count=[0]\n",
    "   \n",
    "    for i in range(0,len(list1)):\n",
    "        key=list1[i]\n",
    "        c=0\n",
    "        for j in range(0,len(list1)):\n",
    "            if(list1[j]==key):\n",
    "                c+=1\n",
    "        count.append(c)\n",
    "    #print(\"count array\")\n",
    "    #print(count)\n",
    "    for i in range(0,len(count)):\n",
    "        for j in range(i+1,len(count)):\n",
    "            if(count[i]==count[j]):\n",
    "                count[j]=0\n",
    "    #print(count)\n",
    "    unique=0\n",
    "    for i in range(0,len(count)):\n",
    "        if(count[i]!=0):\n",
    "            #print(count[i],end=\"\")\n",
    "            unique+=1\n",
    "    print('\\n',unique)\n",
    "    for i in range(0,len(count)):\n",
    "        if(count[i]!=0):\n",
    "            print(count[i],end=\" \")\n",
    "problem1(6,['abcd','ijkl','abcd','pqrs','abcd','ijkl'])"
   ]
  },
  {
   "cell_type": "code",
   "execution_count": null,
   "metadata": {},
   "outputs": [],
   "source": []
  }
 ],
 "metadata": {
  "kernelspec": {
   "display_name": "Python 3",
   "language": "python",
   "name": "python3"
  },
  "language_info": {
   "codemirror_mode": {
    "name": "ipython",
    "version": 3
   },
   "file_extension": ".py",
   "mimetype": "text/x-python",
   "name": "python",
   "nbconvert_exporter": "python",
   "pygments_lexer": "ipython3",
   "version": "3.7.3"
  }
 },
 "nbformat": 4,
 "nbformat_minor": 2
}
