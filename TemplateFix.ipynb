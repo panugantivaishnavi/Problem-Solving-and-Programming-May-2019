{
 "cells": [
  {
   "cell_type": "markdown",
   "metadata": {},
   "source": [
    "# Problem Solving and Programming\n",
    "## P.Bhanu Vaishnavi\n",
    "### Day 10\n",
    "### Date : 8May,2019\n",
    "\n",
    "### Day Objectives\n",
    "* Practicing Python Syntax in the Interactive Shell\n",
    "Print Function - print()\n",
    "Variable Assignment(Single Variable, Multiple Variables)\n",
    "Getting the Data Types using type()\n",
    "String Slicing\n",
    "Lists\n",
    "Tuples\n",
    "Dictionaries\n",
    "Reading input from user\n",
    "* Jupyter Notebooks\n",
    "    Overview, Architecture\n",
    "    Standard Template\n",
    "    Markdown Syntax\n",
    "* Problem Set\n",
    "    Data Processing\n",
    "\n",
    "# Problems:\n",
    "## Problem Statement:\n",
    "## Constraints:\n",
    "## Test Cases:\n",
    "* Test case 1\n",
    "* Test Case 2\n",
    "* Test Case 3"
   ]
  },
  {
   "cell_type": "code",
   "execution_count": null,
   "metadata": {},
   "outputs": [],
   "source": []
  }
 ],
 "metadata": {
  "kernelspec": {
   "display_name": "Python 3",
   "language": "python",
   "name": "python3"
  },
  "language_info": {
   "codemirror_mode": {
    "name": "ipython",
    "version": 3
   },
   "file_extension": ".py",
   "mimetype": "text/x-python",
   "name": "python",
   "nbconvert_exporter": "python",
   "pygments_lexer": "ipython3",
   "version": "3.7.3"
  }
 },
 "nbformat": 4,
 "nbformat_minor": 2
}
